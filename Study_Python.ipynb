{
  "nbformat": 4,
  "nbformat_minor": 0,
  "metadata": {
    "colab": {
      "provenance": [],
      "gpuType": "T4",
      "toc_visible": true,
      "authorship_tag": "ABX9TyNIkxb01DjBj+D+Lf1WBvkE",
      "include_colab_link": true
    },
    "kernelspec": {
      "name": "python3",
      "display_name": "Python 3"
    },
    "language_info": {
      "name": "python"
    },
    "accelerator": "GPU"
  },
  "cells": [
    {
      "cell_type": "markdown",
      "metadata": {
        "id": "view-in-github",
        "colab_type": "text"
      },
      "source": [
        "<a href=\"https://colab.research.google.com/github/nghianh993/NOTE/blob/main/Study_Python.ipynb\" target=\"_parent\"><img src=\"https://colab.research.google.com/assets/colab-badge.svg\" alt=\"Open In Colab\"/></a>"
      ]
    },
    {
      "cell_type": "code",
      "source": [
        "import requests\n",
        "import numpy as np\n",
        "import tensorflow as tf\n",
        "\n",
        "url = \"https://rongbachkim.com/ketqua.php?getkq&ngay=2023-12-31&days=300&wday=0\"\n",
        "\n",
        "# Gửi yêu cầu HTTP đến API và nhận dữ liệu JSON\n",
        "response = requests.get(url)\n",
        "data = response.json()\n",
        "\n",
        "# Chuyển đổi dữ liệu thành đặc trưng (features) và kết quả (labels)\n",
        "features = []\n",
        "labels = []\n",
        "for sample in data:\n",
        "    features.append(sample[1])\n",
        "    labels.append(sample[1][1:])  # Lấy các giá trị kết quả từ phần tử thứ 2 trở đi\n",
        "\n",
        "features = np.array(features, dtype=np.float32)\n",
        "labels = np.array(labels, dtype=np.float32)\n",
        "\n",
        "# Xây dựng mô hình\n",
        "model = tf.keras.models.Sequential([\n",
        "    tf.keras.layers.Dense(64, activation='relu', input_shape=(len(features[0]),)),\n",
        "    tf.keras.layers.Dense(64, activation='relu'),\n",
        "    tf.keras.layers.Dense(1)\n",
        "])\n",
        "\n",
        "# Huấn luyện mô hình\n",
        "model.compile(optimizer='adam', loss='mse')\n",
        "model.fit(features, labels, epochs=10)\n",
        "\n",
        "# Dự đoán kết quả cho ngày tiếp theo\n",
        "X_next_day = np.array([features[-1]])  # Lấy đặc trưng của mẫu cuối cùng làm đặc trưng của ngày tiếp theo\n",
        "y_predicted = model.predict(X_next_day)\n",
        "\n",
        "# In kết quả dự đoán\n",
        "print(\"Kết quả dự đoán cho ngày tiếp theo:\", y_predicted.tolist()[0])"
      ],
      "metadata": {
        "id": "ZxT4ELLVQ8-p",
        "colab": {
          "base_uri": "https://localhost:8080/"
        },
        "outputId": "fb464ffb-6f6f-457b-86a4-6622dfcc8e5c"
      },
      "execution_count": 8,
      "outputs": [
        {
          "output_type": "stream",
          "name": "stdout",
          "text": [
            "Epoch 1/10\n",
            "10/10 [==============================] - 1s 3ms/step - loss: 817506560.0000\n",
            "Epoch 2/10\n",
            "10/10 [==============================] - 0s 4ms/step - loss: 788878336.0000\n",
            "Epoch 3/10\n",
            "10/10 [==============================] - 0s 4ms/step - loss: 783623296.0000\n",
            "Epoch 4/10\n",
            "10/10 [==============================] - 0s 3ms/step - loss: 780299008.0000\n",
            "Epoch 5/10\n",
            "10/10 [==============================] - 0s 3ms/step - loss: 779452800.0000\n",
            "Epoch 6/10\n",
            "10/10 [==============================] - 0s 3ms/step - loss: 778572352.0000\n",
            "Epoch 7/10\n",
            "10/10 [==============================] - 0s 4ms/step - loss: 778047104.0000\n",
            "Epoch 8/10\n",
            "10/10 [==============================] - 0s 3ms/step - loss: 777550592.0000\n",
            "Epoch 9/10\n",
            "10/10 [==============================] - 0s 3ms/step - loss: 777298048.0000\n",
            "Epoch 10/10\n",
            "10/10 [==============================] - 0s 3ms/step - loss: 777132096.0000\n"
          ]
        },
        {
          "output_type": "stream",
          "name": "stderr",
          "text": [
            "WARNING:tensorflow:5 out of the last 5 calls to <function Model.make_predict_function.<locals>.predict_function at 0x7ef4cc4f7c70> triggered tf.function retracing. Tracing is expensive and the excessive number of tracings could be due to (1) creating @tf.function repeatedly in a loop, (2) passing tensors with different shapes, (3) passing Python objects instead of tensors. For (1), please define your @tf.function outside of the loop. For (2), @tf.function has reduce_retracing=True option that can avoid unnecessary retracing. For (3), please refer to https://www.tensorflow.org/guide/function#controlling_retracing and https://www.tensorflow.org/api_docs/python/tf/function for  more details.\n"
          ]
        },
        {
          "output_type": "stream",
          "name": "stdout",
          "text": [
            "1/1 [==============================] - 0s 47ms/step\n",
            "Kết quả dự đoán cho ngày tiếp theo: [29366.357421875]\n"
          ]
        }
      ]
    },
    {
      "cell_type": "markdown",
      "source": [
        "# Mục mới"
      ],
      "metadata": {
        "id": "hO7hjeG5bZva"
      }
    },
    {
      "cell_type": "code",
      "source": [
        "import requests\n",
        "\n",
        "url = \"https://rongbachkim.com/ketqua.php?getkq&ngay=2023-12-31&days=300&wday=0\"\n",
        "\n",
        "# Gửi yêu cầu HTTP đến URL và nhận dữ liệu HTML\n",
        "response = requests.get(url)\n",
        "html_content = response.text\n",
        "\n",
        "# Tìm vị trí bắt đầu và kết thúc của dữ liệu kết quả trong HTML\n",
        "start_index = html_content.find(\"[[\")\n",
        "end_index = html_content.find(\"]]\")\n",
        "\n",
        "# Trích xuất dữ liệu kết quả từ HTML\n",
        "result_data = html_content[start_index:end_index+2]\n",
        "\n",
        "# Chuyển đổi dữ liệu thành danh sách kết quả\n",
        "result_list = eval(result_data)\n",
        "\n",
        "# In kết quả\n",
        "for result in result_list:\n",
        "    date = result[0]\n",
        "    numbers = result[1]\n",
        "    print(\"Ngày:\", date)\n",
        "    print(\"Kết quả:\", numbers)\n",
        "    print()"
      ],
      "metadata": {
        "colab": {
          "base_uri": "https://localhost:8080/",
          "height": 297
        },
        "id": "X7QyaXkbbbIH",
        "outputId": "86e09ecf-69f2-4c35-d30a-1f070ba6210c"
      },
      "execution_count": 9,
      "outputs": [
        {
          "output_type": "error",
          "ename": "SyntaxError",
          "evalue": "ignored",
          "traceback": [
            "Traceback \u001b[0;36m(most recent call last)\u001b[0m:\n",
            "  File \u001b[1;32m\"/usr/local/lib/python3.10/dist-packages/IPython/core/interactiveshell.py\"\u001b[0m, line \u001b[1;32m3553\u001b[0m, in \u001b[1;35mrun_code\u001b[0m\n    exec(code_obj, self.user_global_ns, self.user_ns)\n",
            "\u001b[0;36m  File \u001b[0;32m\"<ipython-input-9-2eca24f7e7c7>\"\u001b[0;36m, line \u001b[0;32m17\u001b[0;36m, in \u001b[0;35m<cell line: 17>\u001b[0;36m\u001b[0m\n\u001b[0;31m    result_list = eval(result_data)\u001b[0m\n",
            "\u001b[0;36m  File \u001b[0;32m\"<string>\"\u001b[0;36m, line \u001b[0;32m1\u001b[0m\n\u001b[0;31m    [[\"2023-12-05\",[\"47521\",\"07540\",\"75731\",\"73475\",\"91273\",\"55144\",\"86736\",\"99900\",\"82341\",\"11775\",\"4831\",\"7851\",\"5581\",\"2662\",\"4138\",\"8878\",\"7384\",\"1966\",\"7257\",\"5976\",\"206\",\"459\",\"399\",\"66\",\"61\",\"51\",\"07\"]]\u001b[0m\n\u001b[0m    ^\u001b[0m\n\u001b[0;31mSyntaxError\u001b[0m\u001b[0;31m:\u001b[0m '[' was never closed\n"
          ]
        }
      ]
    }
  ]
}