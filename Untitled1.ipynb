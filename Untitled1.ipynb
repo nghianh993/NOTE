{
  "nbformat": 4,
  "nbformat_minor": 0,
  "metadata": {
    "colab": {
      "provenance": [],
      "gpuType": "T4",
      "authorship_tag": "ABX9TyPk/s70+JnIqjfxM7DqZM4o",
      "include_colab_link": true
    },
    "kernelspec": {
      "name": "python3",
      "display_name": "Python 3"
    },
    "language_info": {
      "name": "python"
    },
    "accelerator": "GPU"
  },
  "cells": [
    {
      "cell_type": "markdown",
      "metadata": {
        "id": "view-in-github",
        "colab_type": "text"
      },
      "source": [
        "<a href=\"https://colab.research.google.com/github/nghianh993/NOTE/blob/main/Untitled1.ipynb\" target=\"_parent\"><img src=\"https://colab.research.google.com/assets/colab-badge.svg\" alt=\"Open In Colab\"/></a>"
      ]
    },
    {
      "cell_type": "code",
      "execution_count": null,
      "metadata": {
        "id": "_HubC7Lq8hBc"
      },
      "outputs": [],
      "source": [
        "import requests\n",
        "import numpy as np\n",
        "from datetime import datetime\n",
        "import tensorflow as tf\n",
        "from tensorflow.keras.models import Sequential\n",
        "from tensorflow.keras.layers import LSTM, Dense\n",
        "from google.colab import drive\n",
        "import pickle\n",
        "\n",
        "drive.mount('/content/drive')\n",
        "url = \"https://rongbachkim.com\"\n",
        "\n",
        "end_date = '2023-12-27'\n",
        "date_result = '2023-12-28'\n",
        "\n",
        "now = datetime.now()\n",
        "\n",
        "current_file_name = '/content/drive/MyDrive/Model2/AI_300days_20231227.h5'\n",
        "file_in_drive = '/content/drive/MyDrive/Model2/AI_300days_20231227.h5'\n",
        "\n",
        "# Gửi yêu cầu HTTP đến API và nhận dữ liệu JSON\n",
        "response = requests.get(url + '/ketqua.php?getkq&ngay=' + end_date + '&days=300&wday=0')\n",
        "data = response.json()\n",
        "\n",
        "# Chuyển đổi dữ liệu thành đặc trưng (features) và kết quả (labels)\n",
        "features = []\n",
        "labels = []\n",
        "for day in data:\n",
        "    date = day[0].replace('-', '')\n",
        "    results = day[1]\n",
        "    for result in results:\n",
        "        features.append([float(result)])\n",
        "        labels.append([float(date)])\n",
        "\n",
        "features = np.array(features[::-1], dtype=np.float32)\n",
        "labels = np.array(labels[::-1], dtype=np.float32)\n",
        "\n",
        "## Tạo mô hình LSTM\n",
        "#model = Sequential()\n",
        "#model.add(LSTM(128, input_shape=(1, 1), return_sequences=True))\n",
        "#model.add(LSTM(64))\n",
        "#model.add(Dense(32, activation='relu'))\n",
        "#model.add(Dense(1))\n",
        "\n",
        "model = tf.keras.models.load_model(current_file_name)\n",
        "\n",
        "# Biên dịch mô hình\n",
        "model.compile(optimizer='adam', loss='mse')\n",
        "\n",
        "# Huấn luyện mô hình\n",
        "model.fit(features, labels, epochs=100, batch_size=27)\n",
        "\n",
        "model.save(file_in_drive)\n",
        "\n",
        "X_next_day = np.array([features[-1]])\n",
        "y_predicted = model.predict(X_next_day)\n",
        "\n",
        "# Chuyển đổi kết quả dự đoán thành kiểu nguyên\n",
        "y_predicted = y_predicted.flatten().astype(int)\n",
        "\n",
        "# Tạo kết quả dưới dạng mảng tương tự như dữ liệu đã cho\n",
        "next_date = date_result\n",
        "next_results = [str(num).zfill(5) for num in y_predicted]\n",
        "next_data = [next_date, next_results]\n",
        "\n",
        "# In kết quả dự đoán\n",
        "print(next_data)"
      ]
    }
  ]
}